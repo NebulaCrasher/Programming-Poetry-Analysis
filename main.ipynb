{
	"cells": [{
			"cell_type": "code",
			"execution_count": null,
			"id": "e615f39e-f30e-45e1-a79c-be250c9772f8",
			"metadata": {},
			"outputs": [],
			"source": [
				"# Programming-Poetry-Project\n",
				"# Dependencies\n",
				"import matplotlib.pyplot as plt\n",
				"import pandas as pd\n",
				"import numpy as np\n",
				"from scipy import stats\n",
				"\n",
				"# File Location\n",
				"poetry_analysis = \"Resources/Poetry_Analysis_Data.csv\"\n",
				"\n",
				"# Read Poetry Analysis Data File As A Pandas Dataframe\n",
				"poetry_analysis_df = pd.read_csv(poetry_analysis)\n",
				"poetry_analysis_df.head(5)"
			]
		},
		{
			"cell_type": "code",
			"execution_count": null,
			"id": "08746511-fbd4-40e6-8d91-354bbafd1b68",
			"metadata": {},
			"outputs": [],
			"source": [
				"# Total Genre per Age – Stacked Column Chart (Bilal)\n",
				"# Create a table with the Age and Genre Type\n",
				"genre_per_age = poetry_analysis_df.groupby(['age', 'type'])['type'].count().unstack()\n",
				"genre_per_age"
			]
		},
		{
			"cell_type": "code",
			"execution_count": null,
			"id": "7b7ea20b-1562-4a31-aafb-2a2b2916cef6",
			"metadata": {},
			"outputs": [],
			"source": [
				"# Create a Stacked Column Chart with the table created with groupby from above\n",
				"genre_per_age.plot(kind='bar', stacked=True, rot=20, alpha=0.8)\n",
				"plt.title(\"Total Genre per Age\", fontsize=16)\n",
				"plt.xlabel(\"Age\", fontsize=12)\n",
				"plt.ylabel(\"Count of Genres\", fontsize=12)\n",
				"plt.legend(loc=\"upper left\", title = \"Genre\", fontsize=9.6)\n",
				"plt.ylim(0, 385)\n",
				"\n",
				"# Save the graph to the images folder\n",
				"plt.tight_layout()\n",
				"plt.savefig(\"Images/genre_per_age.png\")\n",
				"plt.show()"
			]
		},
		{
			"cell_type": "code",
			"execution_count": null,
			"id": "29bd67df-347d-4e42-afe4-22eb1c220556",
			"metadata": {},
			"outputs": [],
			"source": [
				"# Gender – Bar Graph (Bilal)\n",
				"\n",
				"# Create a bar graph from the \"Gender\" column in the dataframe\n",
				"poetry_analysis_df['Gender'].value_counts().plot(kind='bar', figsize=(7, 6), rot=20, color='b', alpha=0.6)\n",
				"plt.xlabel(\"Gender\", fontsize=12)\n",
				"plt.ylabel(\"Count of People\", fontsize=12)\n",
				"plt.title(\"Gender_Bar Graph\", fontsize=16)\n",
				"\n",
				"# Save the graph to the images folder\n",
				"plt.tight_layout()\n",
				"plt.savefig(\"Images/gender.png\")\n",
				"plt.show()\n",
				"\n",
				"row_count = print(\"Number of rows present:\", \n",
				"      len(poetry_analysis_df['Gender']))\n",
				"poetry_analysis_df['Gender'].value_counts()"
			]
		},
		{
			"cell_type": "markdown",
			"id": "de25e593-d535-4e2c-bdaf-a00bbd6e0d62",
			"metadata": {},
			"source": [
				"### Age Distribution of Poetry"
			]
		},
		{
			"cell_type": "code",
			"execution_count": null,
			"id": "6b11b178-af6a-4b23-847a-b175fe439431",
			"outputs": [],
			"source": [
				"age_distribution = poetry_analysis_df[\"age\"].value_counts()\n",
				"plt.pie(age_distribution, autopct = \"%1.1f%%\", labels=age_distribution.index)\n",
				"plt.legend()\n",
				"plt.show()"
			]
		},
		{
			"cell_type": "markdown",
			"id": "0f6e43a8-96cd-46d1-9d0d-a7b73c74bf3d",
			"metadata": {},
			"source": [
				"### Length of Poems by Genre"
			]
		},
		{
			"cell_type": "code",
			"execution_count": null,
			"id": "0dd37ae3-5bde-4b29-bcc3-89873f3463bd",
			"metadata": {},
			"outputs": [],
			"source": [
				"#Used to split strings with multiple delimiters\n",
				"import re\n",
				"\n",
				"#Make a dictionary to contain poem name, word count, and list of words for each poem\n",
				"poem_dict = {}\n",
				"index = 0\n",
				"\n",
				"#Iterates through each poem by name\n",
				"for poem in poetry_analysis_df[\"poem name\"]:\n",
				"    \n",
				"    #Temporary dictionary that stores poem name, word count, and split content\n",
				"    word_count_dict = {}\n",
				"    \n",
				"    #splits the string in the \"content\" column based on multiple delimiters and removes empty strings\n",
				"    word_list = re.split(',|\\n|;| |:|\\.', poetry_analysis_df[\"content\"][index])\n",
				"    word_list = [word for word in word_list if word != \"\"]\n",
				"    \n",
				"    word_count_dict[\"poem name\"] = poem\n",
				"    word_count_dict[\"word count\"] = len(word_list)\n",
				"    word_count_dict[\"split content\"] = word_list\n",
				"    \n",
				"    #adds poem to the poem dictionary\n",
				"    poem_dict[index] = word_count_dict\n",
				"    index += 1"
			]
		},
		{
			"cell_type": "code",
			"execution_count": null,
			"id": "709372d7-3afb-42b6-91fa-3d9192436e9f",
			"metadata": {},
			"outputs": [],
			"source": [
				"#Creates series to add to the dataframe\n",
				"word_count_series = []\n",
				"split_content_series = []\n",
				"\n",
				"#Adds elements to each respective series\n",
				"for key in poem_dict.keys():\n",
				"    word_count_series.append(poem_dict[key][\"word count\"])\n",
				"    split_content_series.append(poem_dict[key][\"split content\"])\n",
				"\n",
				"#Adds new columns to the dataframe for word count and split content\n",
				"poetry_analysis_df[\"word count\"] = word_count_series\n",
				"poetry_analysis_df[\"split content\"] = split_content_series"
			]
		},
		{
			"cell_type": "code",
			"execution_count": null,
			"id": "84ec36de-7bff-4b9d-b3c2-ea17eb7197eb",
			"metadata": {},
			"outputs": [],
			"source": [
				"# creates a new dataframe with only the columns of interest\n",
				"word_count_df = poetry_analysis_df[[\"poem name\", \"content\", \"type\", \"word count\", \"split content\"]]\n",
				"word_count_df"
			]
		},
		{
			"cell_type": "code",
			"execution_count": null,
			"id": "6223709f-1ebe-42e0-bb29-c53ebe0f8a1a",
			"metadata": {},
			"outputs": [],
			"source": [
				"#Create a dictionary with genre as keys and an array of corresponding poem lengths as values\n",
				"genre_dict = {}\n",
				"genres = []\n",
				"for genre in word_count_df[\"type\"]:\n",
				"    if genre not in genres:\n",
				"        genres.append(genre)\n",
				"        \n",
				"for genre in genres:\n",
				"    genre_df = word_count_df[word_count_df[\"type\"] == genre]\n",
				"    genre_dict[genre] = genre_df[\"word count\"]\n",
				"\n",
				"\n",
				"#Plot the boxplots\n",
				"fig, ax = plt.subplots(figsize = (20,4))\n",
				"ax.boxplot(genre_dict.values(), flierprops={'marker': 'o', 'markerfacecolor': 'red'}, vert=False)\n",
				"ax.set_yticklabels(genre_dict.keys())\n",
				"ax.set_title(\"Boxplots of the Length of Poems by Genre\")\n",
				"ax.set_xlabel(\"Number of Words\")\n",
				"plt.show()"
			]
		},
		{
			"cell_type": "code",
			"execution_count": null,
			"id": "62466a8b-e23e-4c92-b8b6-85ddb7f60951",
			"metadata": {},
			"outputs": [],
			"source": [
				"#Making boxplots of poems with max length of 600\n",
				"genre_dict = {}\n",
				"        \n",
				"for genre in genres:\n",
				"    genre_df = word_count_df[word_count_df[\"type\"] == genre]\n",
				"    genre_df = genre_df[genre_df[\"word count\"] <= 600]\n",
				"    genre_dict[genre] = genre_df[\"word count\"]\n",
				"\n",
				"fig, ax = plt.subplots(figsize = (20,4))\n",
				"ax.boxplot(genre_dict.values(), flierprops={'marker': 'o', 'markerfacecolor': 'red'}, vert=False)\n",
				"ax.set_yticklabels(genre_dict.keys())\n",
				"ax.set_title(\"Boxplots of the Length of Poems by Genre (Limit 600 Words)\")\n",
				"ax.set_xlabel(\"Number of Words\")\n",
				"plt.show()"
			]
		},
		{
			"cell_type": "markdown",
			"id": "e37e6c01-c705-417a-89e7-210e46695c0a",
			"metadata": {},
			"source": [
				"### N-Gram Frequencies (WIP)"
			]
		},
		{
			"cell_type": "code",
			"execution_count": null,
			"id": "871823a1-7783-412a-be34-956200556a03",
			"metadata": {},
			"outputs": [],
			"source": [
				"#Dependencies for making N-grams\n",
				"import nltk, re, string, collections\n",
				"from nltk.util import ngrams"
			]
		},
		{
			"cell_type": "code",
			"execution_count": null,
			"id": "b18a5e71-f35e-4776-908d-6fb22cfadb91",
			"metadata": {},
			"outputs": [],
			"source": [
				"#Creates bigrams for each poem and stores them in bigrams_list. Frequency of bigrams are stored in bigrams_frequency_list.\n",
				"bigrams_list = []\n",
				"bigrams_frequency_list = []\n",
				"for poem in split_content_series:\n",
				"    poem_bigram = ngrams(poem, 1)\n",
				"    bigram_frequency = collections.Counter(poem_bigram)\n",
				"    bigrams_list.append(poem_bigram)\n",
				"    bigrams_frequency_list.append(bigram_frequency)"
			]
		},
		{
			"cell_type": "code",
			"execution_count": null,
			"id": "a86e4b6a-e013-4558-a320-c1d95ff27270",
			"metadata": {},
			"outputs": [],
			"source": [
				"#Print out the top 5 occuring bigrams for each poem:\n",
				"#for bigram in bigrams_frequency_list:\n",
				"    #print(bigram.most_common(5))"
			]
		}
	],
	"metadata": {
		"kernelspec": {
			"display_name": "Python 3.8.13 ('PythonData38')",
			"language": "python",
			"name": "python3"
		},
		"language_info": {
			"codemirror_mode": {
				"name": "ipython",
				"version": 3
			},
			"file_extension": ".py",
			"mimetype": "text/x-python",
			"name": "python",
			"nbconvert_exporter": "python",
			"pygments_lexer": "ipython3",
			"version": "3.9.12"
		},
		"vscode": {
			"interpreter": {
				"hash": "23d1e4805d2de03fc649bab6e2e80d96d2dc4ec47b4d8a930226d29b30b31090"
			}
		}
	},
	"nbformat": 4,
	"nbformat_minor": 5
}