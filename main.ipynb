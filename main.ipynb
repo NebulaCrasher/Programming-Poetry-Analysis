{
 "cells": [
  {
   "cell_type": "code",
   "execution_count": null,
   "id": "e615f39e-f30e-45e1-a79c-be250c9772f8",
   "metadata": {},
   "outputs": [],
   "source": [
    "# Programming-Poetry-Project\n",
    "# Dependencies\n",
    "import matplotlib.pyplot as plt\n",
    "import pandas as pd\n",
    "import numpy as np\n",
    "\n",
    "# File Location\n",
    "Poetry_Analysis = \"Resources/Poetry_Analysis_Data.csv\"\n",
    "\n",
    "# Read Poetry Analysis Data File As A Pandas Dataframe\n",
    "Poetry_Analysis_df = pd.read_csv(Poetry_Analysis)\n",
    "Poetry_Analysis_df.head(5)"
   ]
  },
  {
   "cell_type": "code",
   "execution_count": null,
   "id": "08746511-fbd4-40e6-8d91-354bbafd1b68",
   "metadata": {},
   "outputs": [],
   "source": [
    "# Total Genre per Age – Stacked Column Chart (Bilal)\n",
    "# Create a table with the Age and Genre Type\n",
    "genre_per_age = Poetry_Analysis_df.groupby(['age', 'type'])['type'].count().unstack()\n",
    "genre_per_age"
   ]
  },
  {
   "cell_type": "code",
   "execution_count": null,
   "id": "7b7ea20b-1562-4a31-aafb-2a2b2916cef6",
   "metadata": {},
   "outputs": [],
   "source": [
    "# Create a Stacked Column Chart with the table created with groupby from above\n",
    "genre_per_age.plot(kind='bar', stacked=True, rot=20, alpha=0.8)\n",
    "plt.title(\"Total Genre per Age\", fontsize=16)\n",
    "plt.xlabel(\"Age\", fontsize=12)\n",
    "plt.ylabel(\"Count of Genres\", fontsize=12)\n",
    "plt.legend(loc=\"upper left\", title = \"Genre\", fontsize=9.6)\n",
    "plt.ylim(0, 385)\n",
    "\n",
    "# Save the graph to the images folder\n",
    "plt.tight_layout()\n",
    "plt.savefig(\"Images/genre_per_age.png\")\n",
    "plt.show()"
   ]
  },
  {
   "cell_type": "code",
   "execution_count": null,
   "id": "29bd67df-347d-4e42-afe4-22eb1c220556",
   "metadata": {},
   "outputs": [],
   "source": [
    "# Gender – Bar Graph (Bilal)\n",
    "\n",
    "# Create a bar graph from the \"Gender\" column in the dataframe\n",
    "Poetry_Analysis_df['Gender'].value_counts().plot(kind='bar', figsize=(7, 6), rot=20, color='b', alpha=0.6)\n",
    "plt.xlabel(\"Gender\", fontsize=12)\n",
    "plt.ylabel(\"Count of People\", fontsize=12)\n",
    "plt.title(\"Gender – Bar Graph\", fontsize=16)\n",
    "\n",
    "# Save the graph to the images folder\n",
    "plt.tight_layout()\n",
    "plt.savefig(\"Images/gender.png\")\n",
    "plt.show()\n",
    "\n",
    "row_count = print(\"Number of rows present:\", \n",
    "      len(Poetry_Analysis_df['Gender']))\n",
    "Poetry_Analysis_df['Gender'].value_counts()"
   ]
  }
 ],
 "metadata": {
  "kernelspec": {
   "display_name": "Python 3 (ipykernel)",
   "language": "python",
   "name": "python3"
  },
  "language_info": {
   "codemirror_mode": {
    "name": "ipython",
    "version": 3
   },
   "file_extension": ".py",
   "mimetype": "text/x-python",
   "name": "python",
   "nbconvert_exporter": "python",
   "pygments_lexer": "ipython3",
   "version": "3.9.12"
  }
 },
 "nbformat": 4,
 "nbformat_minor": 5
}
