{
 "cells": [
  {
   "cell_type": "code",
   "execution_count": 165,
   "id": "e615f39e-f30e-45e1-a79c-be250c9772f8",
   "metadata": {},
   "outputs": [
    {
     "data": {
      "text/html": [
       "<div>\n",
       "<style scoped>\n",
       "    .dataframe tbody tr th:only-of-type {\n",
       "        vertical-align: middle;\n",
       "    }\n",
       "\n",
       "    .dataframe tbody tr th {\n",
       "        vertical-align: top;\n",
       "    }\n",
       "\n",
       "    .dataframe thead th {\n",
       "        text-align: right;\n",
       "    }\n",
       "</style>\n",
       "<table border=\"1\" class=\"dataframe\">\n",
       "  <thead>\n",
       "    <tr style=\"text-align: right;\">\n",
       "      <th></th>\n",
       "      <th>author</th>\n",
       "      <th>content</th>\n",
       "      <th>poem name</th>\n",
       "      <th>age</th>\n",
       "      <th>type</th>\n",
       "      <th>Gender</th>\n",
       "    </tr>\n",
       "  </thead>\n",
       "  <tbody>\n",
       "    <tr>\n",
       "      <th>0</th>\n",
       "      <td>WILLIAM SHAKESPEARE</td>\n",
       "      <td>Let the bird of loudest lay\\r\\nOn the sole Ara...</td>\n",
       "      <td>The Phoenix and the Turtle</td>\n",
       "      <td>Renaissance</td>\n",
       "      <td>Mythology &amp; Folklore</td>\n",
       "      <td>Male</td>\n",
       "    </tr>\n",
       "    <tr>\n",
       "      <th>1</th>\n",
       "      <td>DUCHESS OF NEWCASTLE MARGARET CAVENDISH</td>\n",
       "      <td>Sir Charles into my chamber coming in,\\r\\nWhen...</td>\n",
       "      <td>An Epilogue to the Above</td>\n",
       "      <td>Renaissance</td>\n",
       "      <td>Mythology &amp; Folklore</td>\n",
       "      <td>Female</td>\n",
       "    </tr>\n",
       "    <tr>\n",
       "      <th>2</th>\n",
       "      <td>THOMAS BASTARD</td>\n",
       "      <td>Our vice runs beyond all that old men saw,\\r\\n...</td>\n",
       "      <td>Book 7, Epigram 42</td>\n",
       "      <td>Renaissance</td>\n",
       "      <td>Mythology &amp; Folklore</td>\n",
       "      <td>Male</td>\n",
       "    </tr>\n",
       "    <tr>\n",
       "      <th>3</th>\n",
       "      <td>EDMUND SPENSER</td>\n",
       "      <td>Lo I the man, whose Muse whilome did maske,\\r\\...</td>\n",
       "      <td>from The Faerie Queene: Book I, Canto I</td>\n",
       "      <td>Renaissance</td>\n",
       "      <td>Mythology &amp; Folklore</td>\n",
       "      <td>Male</td>\n",
       "    </tr>\n",
       "    <tr>\n",
       "      <th>4</th>\n",
       "      <td>RICHARD BARNFIELD</td>\n",
       "      <td>Long have I longd to see my love againe,\\r\\nSt...</td>\n",
       "      <td>Sonnet 16</td>\n",
       "      <td>Renaissance</td>\n",
       "      <td>Mythology &amp; Folklore</td>\n",
       "      <td>Male</td>\n",
       "    </tr>\n",
       "  </tbody>\n",
       "</table>\n",
       "</div>"
      ],
      "text/plain": [
       "                                    author  \\\n",
       "0                      WILLIAM SHAKESPEARE   \n",
       "1  DUCHESS OF NEWCASTLE MARGARET CAVENDISH   \n",
       "2                           THOMAS BASTARD   \n",
       "3                           EDMUND SPENSER   \n",
       "4                        RICHARD BARNFIELD   \n",
       "\n",
       "                                             content  \\\n",
       "0  Let the bird of loudest lay\\r\\nOn the sole Ara...   \n",
       "1  Sir Charles into my chamber coming in,\\r\\nWhen...   \n",
       "2  Our vice runs beyond all that old men saw,\\r\\n...   \n",
       "3  Lo I the man, whose Muse whilome did maske,\\r\\...   \n",
       "4  Long have I longd to see my love againe,\\r\\nSt...   \n",
       "\n",
       "                                 poem name          age                  type  \\\n",
       "0               The Phoenix and the Turtle  Renaissance  Mythology & Folklore   \n",
       "1                 An Epilogue to the Above  Renaissance  Mythology & Folklore   \n",
       "2                       Book 7, Epigram 42  Renaissance  Mythology & Folklore   \n",
       "3  from The Faerie Queene: Book I, Canto I  Renaissance  Mythology & Folklore   \n",
       "4                                Sonnet 16  Renaissance  Mythology & Folklore   \n",
       "\n",
       "   Gender  \n",
       "0    Male  \n",
       "1  Female  \n",
       "2    Male  \n",
       "3    Male  \n",
       "4    Male  "
      ]
     },
     "execution_count": 165,
     "metadata": {},
     "output_type": "execute_result"
    }
   ],
   "source": [
    "# Programming-Poetry-Project\n",
    "# Dependencies\n",
    "import matplotlib.pyplot as plt\n",
    "import pandas as pd\n",
    "import numpy as np\n",
    "\n",
    "# File Location\n",
    "Poetry_Analysis = \"Resources/Poetry_Analysis_Data.csv\"\n",
    "\n",
    "# Read Poetry Analysis Data File As A Pandas Dataframe\n",
    "Poetry_Analysis_df = pd.read_csv(Poetry_Analysis)\n",
    "Poetry_Analysis_df.head(5)"
   ]
  },
  {
   "cell_type": "code",
   "execution_count": 166,
   "id": "08746511-fbd4-40e6-8d91-354bbafd1b68",
   "metadata": {},
   "outputs": [
    {
     "data": {
      "text/html": [
       "<div>\n",
       "<style scoped>\n",
       "    .dataframe tbody tr th:only-of-type {\n",
       "        vertical-align: middle;\n",
       "    }\n",
       "\n",
       "    .dataframe tbody tr th {\n",
       "        vertical-align: top;\n",
       "    }\n",
       "\n",
       "    .dataframe thead th {\n",
       "        text-align: right;\n",
       "    }\n",
       "</style>\n",
       "<table border=\"1\" class=\"dataframe\">\n",
       "  <thead>\n",
       "    <tr style=\"text-align: right;\">\n",
       "      <th>type</th>\n",
       "      <th>Love</th>\n",
       "      <th>Mythology &amp; Folklore</th>\n",
       "      <th>Nature</th>\n",
       "    </tr>\n",
       "    <tr>\n",
       "      <th>age</th>\n",
       "      <th></th>\n",
       "      <th></th>\n",
       "      <th></th>\n",
       "    </tr>\n",
       "  </thead>\n",
       "  <tbody>\n",
       "    <tr>\n",
       "      <th>Modern</th>\n",
       "      <td>83</td>\n",
       "      <td>40</td>\n",
       "      <td>135</td>\n",
       "    </tr>\n",
       "    <tr>\n",
       "      <th>Renaissance</th>\n",
       "      <td>243</td>\n",
       "      <td>19</td>\n",
       "      <td>53</td>\n",
       "    </tr>\n",
       "  </tbody>\n",
       "</table>\n",
       "</div>"
      ],
      "text/plain": [
       "type         Love  Mythology & Folklore  Nature\n",
       "age                                            \n",
       "Modern         83                    40     135\n",
       "Renaissance   243                    19      53"
      ]
     },
     "execution_count": 166,
     "metadata": {},
     "output_type": "execute_result"
    }
   ],
   "source": [
    "# Total Genre per Age – Stacked Column Chart (Bilal)\n",
    "# Create a table with the Age and Genre Type\n",
    "genre_per_age = Poetry_Analysis_df.groupby(['age', 'type'])['type'].count().unstack()\n",
    "genre_per_age"
   ]
  },
  {
   "cell_type": "code",
   "execution_count": 167,
   "id": "7b7ea20b-1562-4a31-aafb-2a2b2916cef6",
   "metadata": {},
   "outputs": [
    {
     "data": {
      "image/png": "[encoded data removed]",
      "text/plain": [
       "<Figure size 432x288 with 1 Axes>"
      ]
     },
     "metadata": {
      "needs_background": "light"
     },
     "output_type": "display_data"
    }
   ],
   "source": [
    "# Create a Stacked Column Chart with the table created with groupby from above\n",
    "genre_per_age.plot(kind='bar', stacked=True, rot=20, alpha=0.8)\n",
    "plt.title(\"Total Genre per Age\", fontsize=16)\n",
    "plt.xlabel(\"Age\", fontsize=12)\n",
    "plt.ylabel(\"Count of Genres\", fontsize=12)\n",
    "plt.legend(loc=\"upper left\", title = \"Genre\", fontsize=9.6)\n",
    "plt.ylim(0, 385)\n",
    "\n",
    "# Save the graph to the images folder\n",
    "plt.tight_layout()\n",
    "plt.savefig(\"Images/genre_per_age.png\")\n",
    "plt.show()"
   ]
  },
  {
   "cell_type": "code",
   "execution_count": 168,
   "id": "29bd67df-347d-4e42-afe4-22eb1c220556",
   "metadata": {},
   "outputs": [
    {
     "data": {
      "image/png": "[encoded data removed]",
      "text/plain": [
       "<Figure size 504x432 with 1 Axes>"
      ]
     },
     "metadata": {
      "needs_background": "light"
     },
     "output_type": "display_data"
    },
    {
     "name": "stdout",
     "output_type": "stream",
     "text": [
      "Number of rows present: 573\n"
     ]
    },
    {
     "data": {
      "text/plain": [
       "Male      519\n",
       "Female     54\n",
       "Name: Gender, dtype: int64"
      ]
     },
     "execution_count": 168,
     "metadata": {},
     "output_type": "execute_result"
    }
   ],
   "source": [
    "# Gender – Bar Graph (Bilal)\n",
    "\n",
    "# Create a bar graph from the \"Gender\" column in the dataframe\n",
    "Poetry_Analysis_df['Gender'].value_counts().plot(kind='bar', figsize=(7, 6), rot=20, color='b', alpha=0.6)\n",
    "plt.xlabel(\"Gender\", fontsize=12)\n",
    "plt.ylabel(\"Count of People\", fontsize=12)\n",
    "plt.title(\"Gender – Bar Graph\", fontsize=16)\n",
    "\n",
    "# Save the graph to the images folder\n",
    "plt.tight_layout()\n",
    "plt.savefig(\"Images/gender.png\")\n",
    "plt.show()\n",
    "\n",
    "row_count = print(\"Number of rows present:\", \n",
    "      len(Poetry_Analysis_df['Gender']))\n",
    "Poetry_Analysis_df['Gender'].value_counts()"
   ]
  },
  {
   "cell_type": "code",
   "execution_count": null,
   "id": "b50b0cc5-cb89-44c2-a49b-fb78ca096681",
   "metadata": {},
   "outputs": [],
   "source": []
  }
 ],
 "metadata": {
  "kernelspec": {
   "display_name": "Python 3 (ipykernel)",
   "language": "python",
   "name": "python3"
  },
  "language_info": {
   "codemirror_mode": {
    "name": "ipython",
    "version": 3
   },
   "file_extension": ".py",
   "mimetype": "text/x-python",
   "name": "python",
   "nbconvert_exporter": "python",
   "pygments_lexer": "ipython3",
   "version": "3.9.12"
  }
 },
 "nbformat": 4,
 "nbformat_minor": 5
}
