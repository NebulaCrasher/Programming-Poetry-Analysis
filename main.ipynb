{
 "cells": [
  {
   "cell_type": "code",
   "execution_count": null,
   "metadata": {},
   "outputs": [],
   "source": [
    "import pandas as pd\n",
    "import matplotlib.pyplot as plt\n",
    "from scipy import stats\n"
   ]
  },
  {
   "cell_type": "code",
   "execution_count": null,
   "id": "07f733fb",
   "metadata": {},
   "outputs": [],
   "source": [
    "poetry_data = pd.read_csv(\"Resources/Poetry_Analysis_Data.csv\")\n",
    "age_distribution = poetry_data[\"age\"].value_counts()\n",
    "plt.pie(age_distribution, autopct = \"%1.1f%%\", labels=age_distribution.index)\n",
    "plt.legend()\n",
    "plt.show()\n"
   ]
  }
 ],
 "metadata": {
  "kernelspec": {
   "display_name": "Python 3.8.13 ('PythonData38')",
   "language": "python",
   "name": "python3"
  },
  "language_info": {
   "codemirror_mode": {
    "name": "ipython",
    "version": 3
   },
   "file_extension": ".py",
   "mimetype": "text/x-python",
   "name": "python",
   "nbconvert_exporter": "python",
   "pygments_lexer": "ipython3",
   "version": "3.8.13"
  },
  "vscode": {
   "interpreter": {
    "hash": "23d1e4805d2de03fc649bab6e2e80d96d2dc4ec47b4d8a930226d29b30b31090"
   }
  }
 },
 "nbformat": 4,
 "nbformat_minor": 5
}
