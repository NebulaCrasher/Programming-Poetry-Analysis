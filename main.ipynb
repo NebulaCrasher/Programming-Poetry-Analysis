{
 "cells": [
  {
   "cell_type": "code",
   "execution_count": null,
   "id": "e615f39e-f30e-45e1-a79c-be250c9772f8",
   "metadata": {},
   "outputs": [],
   "source": [
    "# Programming-Poetry-Project\n",
    "# Dependencies\n",
    "import matplotlib.pyplot as plt\n",
    "import pandas as pd\n",
    "import numpy as np\n",
    "from scipy import stats\n",
    "import seaborn as sns\n",
    "import nltk\n",
    "from nltk.sentiment import SentimentIntensityAnalyzer\n",
    "import pprint\n",
    "# File Location\n",
    "poetry_analysis = \"Resources/Poetry_Analysis_Data.csv\"\n",
    "\n",
    "# Read Poetry Analysis Data File As A Pandas Dataframe\n",
    "poetry_analysis_df = pd.read_csv(poetry_analysis)\n"
   ]
  },
  {
   "cell_type": "code",
   "execution_count": null,
   "id": "08746511-fbd4-40e6-8d91-354bbafd1b68",
   "metadata": {},
   "outputs": [],
   "source": [
    "# Total Genre per Age – Stacked Column Chart (Bilal)\n",
    "# Create a table with the Age and Genre Type\n",
    "genre_per_age = poetry_analysis_df.groupby(['age', 'type'])['type'].count().unstack()\n",
    "genre_per_age"
   ]
  },
  {
   "cell_type": "markdown",
   "id": "787b5854",
   "metadata": {},
   "source": [
    "## Genres per Age - Stacked Column Graph"
   ]
  },
  {
   "cell_type": "code",
   "execution_count": null,
   "id": "7b7ea20b-1562-4a31-aafb-2a2b2916cef6",
   "metadata": {},
   "outputs": [],
   "source": [
    "# Create a Stacked Column Chart with the table created with groupby from above\n",
    "genre_per_age.plot(kind='bar', stacked=True, rot=20, alpha=0.8)\n",
    "plt.title(\"Total Genre per Age\", fontsize=16)\n",
    "plt.xlabel(\"Age\", fontsize=12)\n",
    "plt.ylabel(\"Count of Genres\", fontsize=12)\n",
    "plt.legend(loc=\"upper left\", title = \"Genre\", fontsize=9.6)\n",
    "plt.ylim(0, 385)\n",
    "\n",
    "# Save the graph to the images folder\n",
    "plt.tight_layout()\n",
    "plt.savefig(\"Images/genre_per_age.png\")\n",
    "plt.show()"
   ]
  },
  {
   "cell_type": "markdown",
   "id": "d2125465",
   "metadata": {},
   "source": [
    "## Gender – Bar Graph"
   ]
  },
  {
   "cell_type": "code",
   "execution_count": null,
   "id": "29bd67df-347d-4e42-afe4-22eb1c220556",
   "metadata": {},
   "outputs": [],
   "source": [
    "# Create a bar graph from the \"Gender\" column in the dataframe\n",
    "poetry_analysis_df['Gender'].value_counts().plot(kind='bar', figsize=(7, 6), rot=20, color='b', alpha=0.6)\n",
    "plt.xlabel(\"Gender\", fontsize=12)\n",
    "plt.ylabel(\"Count of People\", fontsize=12)\n",
    "plt.title(\"Gender_Bar Graph\", fontsize=16)\n",
    "\n",
    "# Save the graph to the images folder\n",
    "plt.tight_layout()\n",
    "plt.savefig(\"Images/gender.png\")\n",
    "plt.show()\n",
    "\n",
    "row_count = print(\"Number of rows present:\", \n",
    "      len(poetry_analysis_df['Gender']))\n",
    "poetry_analysis_df['Gender'].value_counts()\n",
    "\n"
   ]
  },
  {
   "cell_type": "markdown",
   "id": "89554a17",
   "metadata": {},
   "source": [
    "## Age Distribution of Poetry"
   ]
  },
  {
   "cell_type": "code",
   "execution_count": null,
   "id": "2c7273bf",
   "metadata": {},
   "outputs": [],
   "source": [
    "age_distribution = poetry_analysis_df[\"age\"].value_counts()\n",
    "plt.pie(age_distribution, autopct = \"%1.1f%%\", labels=age_distribution.index)\n",
    "plt.savefig(\"Images/age_distribution.png\")\n",
    "plt.show()"
   ]
  },
  {
   "cell_type": "markdown",
   "id": "d9fb7cd9",
   "metadata": {},
   "source": [
    "## Counts of Genre Type"
   ]
  },
  {
   "cell_type": "code",
   "execution_count": null,
   "id": "ff8eab68",
   "metadata": {},
   "outputs": [],
   "source": [
    "sns.set(font_scale=1.4)\n",
    "poetry_analysis_df['type'].value_counts().plot(kind='bar', figsize=(7, 6), rot=0)\n",
    "plt.xlabel(\"Poem Type\", labelpad=14)\n",
    "plt.ylabel(\"Count\", labelpad=14)\n",
    "plt.title(\"Count of Poem Types\", y=1.02)\n",
    "plt.savefig(\"Images/genre_count.png\")\n",
    "plt.show()"
   ]
  },
  {
   "cell_type": "markdown",
   "id": "1aec072d",
   "metadata": {},
   "source": [
    "## Sentiment Analysis"
   ]
  },
  {
   "cell_type": "code",
   "execution_count": null,
   "id": "19bfa84e",
   "metadata": {},
   "outputs": [],
   "source": [
    "nltk.download([\"names\", \n",
    "               \"stopwords\",   \n",
    "               \"twitter_samples\",    \n",
    "               \"movie_reviews\",   \n",
    "               \"averaged_perceptron_tagger\",   \n",
    "                \"vader_lexicon\",    \n",
    "                \"punkt\", ])\n",
    "raw_text = poetry_analysis_df[\"content\"].to_string()\n",
    "word_list = nltk.word_tokenize(raw_text)\n",
    "words_not_numbers = [word for word in word_list if word.isalpha()]\n",
    "stopwords = nltk.corpus.stopwords.words(\"english\")\n",
    "words = [word for word in words_not_numbers if word.lower() not in stopwords]\n",
    "raw_words = ' '.join(words)\n",
    "sia = SentimentIntensityAnalyzer()\n",
    "sia.polarity_scores(raw_text)"
   ]
  },
  {
   "cell_type": "markdown",
   "id": "79bd2bdc-5356-423b-9ea0-c7a13323feb5",
   "metadata": {},
   "source": [
    "### Length of Poems by Genre"
   ]
  },
  {
   "cell_type": "code",
   "execution_count": null,
   "id": "410cc86e-134b-4df0-a8f6-81277e50d9c3",
   "metadata": {},
   "outputs": [],
   "source": [
    "#Used to split strings with multiple delimiters\n",
    "import re\n",
    "\n",
    "#Make a dictionary to contain poem name, word count, and list of words for each poem\n",
    "poem_dict = {}\n",
    "index = 0\n",
    "\n",
    "#Iterates through each poem by name\n",
    "for poem in poetry_analysis_df[\"poem name\"]:\n",
    "    \n",
    "    #Temporary dictionary that stores poem name, word count, and split content\n",
    "    word_count_dict = {}\n",
    "    \n",
    "    #splits the string in the \"content\" column based on multiple delimiters and removes empty strings\n",
    "    word_list = re.split(',|\\n|;| |:|\\.|!', poetry_analysis_df[\"content\"][index])\n",
    "    word_list = [word for word in word_list if word != \"\"]\n",
    "    \n",
    "    word_count_dict[\"poem name\"] = poem\n",
    "    word_count_dict[\"word count\"] = len(word_list)\n",
    "    word_count_dict[\"split content\"] = word_list\n",
    "    \n",
    "    #adds poem to the poem dictionary\n",
    "    poem_dict[index] = word_count_dict\n",
    "    index += 1"
   ]
  },
  {
   "cell_type": "code",
   "execution_count": null,
   "id": "49ab6f27-59a5-4fa3-a44d-59fa8e2af46b",
   "metadata": {},
   "outputs": [],
   "source": [
    "#Creates series to add to the dataframe\n",
    "word_count_series = []\n",
    "split_content_series = []\n",
    "\n",
    "#Adds elements to each respective series\n",
    "for key in poem_dict.keys():\n",
    "    word_count_series.append(poem_dict[key][\"word count\"])\n",
    "    split_content_series.append(poem_dict[key][\"split content\"])\n",
    "\n",
    "#Adds new columns to the dataframe for word count and split content\n",
    "poetry_analysis_df[\"word count\"] = word_count_series\n",
    "poetry_analysis_df[\"split content\"] = split_content_series"
   ]
  },
  {
   "cell_type": "code",
   "execution_count": null,
   "id": "cb6c0155-e12c-4a5c-9c1b-3c3036307b2e",
   "metadata": {},
   "outputs": [],
   "source": [
    "# creates a new dataframe with only the columns of interest\n",
    "word_count_df = poetry_analysis_df[[\"poem name\", \"content\", \"type\", \"word count\", \"split content\"]]\n",
    "word_count_df"
   ]
  },
  {
   "cell_type": "code",
   "execution_count": null,
   "id": "018bf98e-1e04-49f6-961d-6e8be6f6cf74",
   "metadata": {},
   "outputs": [],
   "source": [
    "#Create a dictionary with genre as keys and an array of corresponding poem lengths as values\n",
    "genre_dict = {}\n",
    "genres = []\n",
    "for genre in word_count_df[\"type\"]:\n",
    "    if genre not in genres:\n",
    "        genres.append(genre)\n",
    "        \n",
    "for genre in genres:\n",
    "    genre_df = word_count_df[word_count_df[\"type\"] == genre]\n",
    "    genre_dict[genre] = genre_df[\"word count\"]\n",
    "\n",
    "\n",
    "#Plot the boxplots\n",
    "fig, ax = plt.subplots(figsize = (20,4))\n",
    "ax.boxplot(genre_dict.values(), flierprops={'marker': 'o', 'markerfacecolor': 'red'}, vert=False)\n",
    "ax.set_yticklabels(genre_dict.keys())\n",
    "ax.set_title(\"Boxplots of the Length of Poems by Genre\")\n",
    "ax.set_xlabel(\"Number of Words\")\n",
    "plt.show()"
   ]
  },
  {
   "cell_type": "code",
   "execution_count": null,
   "id": "6236fbe6-a004-4cd1-ba56-68deaf48eec3",
   "metadata": {},
   "outputs": [],
   "source": [
    "#Making boxplots of poems with max length of 600\n",
    "genre_dict = {}\n",
    "        \n",
    "for genre in genres:\n",
    "    genre_df = word_count_df[word_count_df[\"type\"] == genre]\n",
    "    genre_df = genre_df[genre_df[\"word count\"] <= 600]\n",
    "    genre_dict[genre] = genre_df[\"word count\"]\n",
    "\n",
    "fig, ax = plt.subplots(figsize = (20,4))\n",
    "ax.boxplot(genre_dict.values(), flierprops={'marker': 'o', 'markerfacecolor': 'red'}, vert=False)\n",
    "ax.set_yticklabels(genre_dict.keys())\n",
    "ax.set_title(\"Boxplots of the Length of Poems by Genre (Limit 600 Words)\")\n",
    "ax.set_xlabel(\"Number of Words\")\n",
    "plt.show()"
   ]
  },
  {
   "cell_type": "markdown",
   "id": "9ebd09ba-c7fd-434c-8343-16678fe476d0",
   "metadata": {},
   "source": [
    "### Word Cloud"
   ]
  },
  {
   "cell_type": "code",
   "execution_count": null,
   "id": "0876400f-c3c6-487a-b903-1585468fc7e3",
   "metadata": {},
   "outputs": [],
   "source": [
    "#Create a string to store all the words from the split content column\n",
    "big_string = \"\"\n",
    "for poem in split_content_series:\n",
    "    for word in poem:\n",
    "        big_string += f\"{word} \""
   ]
  },
  {
   "cell_type": "code",
   "execution_count": null,
   "id": "551ae1d7-7f14-44aa-839c-695d751754f9",
   "metadata": {},
   "outputs": [],
   "source": [
    "#Import wordcloud module to generate the word cloud\n",
    "from wordcloud import WordCloud, STOPWORDS, ImageColorGenerator\n",
    "word_cloud = WordCloud(background_color=\"white\",\n",
    "               max_words=1000, \n",
    "               repeat=True,\n",
    "               stopwords=STOPWORDS, \n",
    "               width=750, \n",
    "               height=750)\n",
    "\n",
    "# Generate a wordcloud\n",
    "word_cloud.generate(big_string)\n",
    "\n",
    "# store to file\n",
    "word_cloud.to_file(\"Images/poem_wordcloud.png\")\n",
    "\n",
    "# show\n",
    "plt.figure(figsize=[20,10])\n",
    "plt.imshow(word_cloud, interpolation='bilinear')\n",
    "plt.axis(\"off\")\n",
    "plt.show()"
   ]
  }
 ],
 "metadata": {
  "kernelspec": {
   "display_name": "Python 3 (ipykernel)",
   "language": "python",
   "name": "python3"
  },
  "language_info": {
   "codemirror_mode": {
    "name": "ipython",
    "version": 3
   },
   "file_extension": ".py",
   "mimetype": "text/x-python",
   "name": "python",
   "nbconvert_exporter": "python",
   "pygments_lexer": "ipython3",
   "version": "3.8.13"
  },
  "vscode": {
   "interpreter": {
    "hash": "23d1e4805d2de03fc649bab6e2e80d96d2dc4ec47b4d8a930226d29b30b31090"
   }
  }
 },
 "nbformat": 4,
 "nbformat_minor": 5
}
