{
 "cells": [
  {
   "cell_type": "code",
   "execution_count": 31,
   "id": "e615f39e-f30e-45e1-a79c-be250c9772f8",
   "metadata": {},
   "outputs": [
    {
     "data": {
      "text/html": [
       "<div>\n",
       "<style scoped>\n",
       "    .dataframe tbody tr th:only-of-type {\n",
       "        vertical-align: middle;\n",
       "    }\n",
       "\n",
       "    .dataframe tbody tr th {\n",
       "        vertical-align: top;\n",
       "    }\n",
       "\n",
       "    .dataframe thead th {\n",
       "        text-align: right;\n",
       "    }\n",
       "</style>\n",
       "<table border=\"1\" class=\"dataframe\">\n",
       "  <thead>\n",
       "    <tr style=\"text-align: right;\">\n",
       "      <th></th>\n",
       "      <th>author</th>\n",
       "      <th>content</th>\n",
       "      <th>poem name</th>\n",
       "      <th>age</th>\n",
       "      <th>type</th>\n",
       "      <th>Gender</th>\n",
       "    </tr>\n",
       "  </thead>\n",
       "  <tbody>\n",
       "    <tr>\n",
       "      <th>0</th>\n",
       "      <td>WILLIAM SHAKESPEARE</td>\n",
       "      <td>Let the bird of loudest lay\\nOn the sole Arabi...</td>\n",
       "      <td>The Phoenix and the Turtle</td>\n",
       "      <td>Renaissance</td>\n",
       "      <td>Mythology &amp; Folklore</td>\n",
       "      <td>Male</td>\n",
       "    </tr>\n",
       "    <tr>\n",
       "      <th>1</th>\n",
       "      <td>DUCHESS OF NEWCASTLE MARGARET CAVENDISH</td>\n",
       "      <td>Sir Charles into my chamber coming in,\\nWhen I...</td>\n",
       "      <td>An Epilogue to the Above</td>\n",
       "      <td>Renaissance</td>\n",
       "      <td>Mythology &amp; Folklore</td>\n",
       "      <td>Female</td>\n",
       "    </tr>\n",
       "    <tr>\n",
       "      <th>2</th>\n",
       "      <td>THOMAS BASTARD</td>\n",
       "      <td>Our vice runs beyond all that old men saw,\\nAn...</td>\n",
       "      <td>Book 7, Epigram 42</td>\n",
       "      <td>Renaissance</td>\n",
       "      <td>Mythology &amp; Folklore</td>\n",
       "      <td>Male</td>\n",
       "    </tr>\n",
       "    <tr>\n",
       "      <th>3</th>\n",
       "      <td>EDMUND SPENSER</td>\n",
       "      <td>Lo I the man, whose Muse whilome did maske,\\nA...</td>\n",
       "      <td>from The Faerie Queene: Book I, Canto I</td>\n",
       "      <td>Renaissance</td>\n",
       "      <td>Mythology &amp; Folklore</td>\n",
       "      <td>Male</td>\n",
       "    </tr>\n",
       "    <tr>\n",
       "      <th>4</th>\n",
       "      <td>RICHARD BARNFIELD</td>\n",
       "      <td>Long have I longd to see my love againe,\\nStil...</td>\n",
       "      <td>Sonnet 16</td>\n",
       "      <td>Renaissance</td>\n",
       "      <td>Mythology &amp; Folklore</td>\n",
       "      <td>Male</td>\n",
       "    </tr>\n",
       "  </tbody>\n",
       "</table>\n",
       "</div>"
      ],
      "text/plain": [
       "                                    author  \\\n",
       "0                      WILLIAM SHAKESPEARE   \n",
       "1  DUCHESS OF NEWCASTLE MARGARET CAVENDISH   \n",
       "2                           THOMAS BASTARD   \n",
       "3                           EDMUND SPENSER   \n",
       "4                        RICHARD BARNFIELD   \n",
       "\n",
       "                                             content  \\\n",
       "0  Let the bird of loudest lay\\nOn the sole Arabi...   \n",
       "1  Sir Charles into my chamber coming in,\\nWhen I...   \n",
       "2  Our vice runs beyond all that old men saw,\\nAn...   \n",
       "3  Lo I the man, whose Muse whilome did maske,\\nA...   \n",
       "4  Long have I longd to see my love againe,\\nStil...   \n",
       "\n",
       "                                 poem name          age                  type  \\\n",
       "0               The Phoenix and the Turtle  Renaissance  Mythology & Folklore   \n",
       "1                 An Epilogue to the Above  Renaissance  Mythology & Folklore   \n",
       "2                       Book 7, Epigram 42  Renaissance  Mythology & Folklore   \n",
       "3  from The Faerie Queene: Book I, Canto I  Renaissance  Mythology & Folklore   \n",
       "4                                Sonnet 16  Renaissance  Mythology & Folklore   \n",
       "\n",
       "   Gender  \n",
       "0    Male  \n",
       "1  Female  \n",
       "2    Male  \n",
       "3    Male  \n",
       "4    Male  "
      ]
     },
     "execution_count": 31,
     "metadata": {},
     "output_type": "execute_result"
    }
   ],
   "source": [
    "# Programming-Poetry-Project\n",
    "# Dependencies\n",
    "import matplotlib.pyplot as plt\n",
    "import pandas as pd\n",
    "import numpy as np\n",
    "from scipy import stats\n",
    "\n",
    "# File Location\n",
    "Poetry_Analysis = \"Resources/Poetry_Analysis_Data.csv\"\n",
    "\n",
    "# Read Poetry Analysis Data File As A Pandas Dataframe\n",
    "Poetry_Analysis_df = pd.read_csv(Poetry_Analysis)\n",
    "Poetry_Analysis_df.head(5)"
   ]
  },
  {
   "cell_type": "code",
   "execution_count": 32,
   "id": "08746511-fbd4-40e6-8d91-354bbafd1b68",
   "metadata": {},
   "outputs": [
    {
     "data": {
      "text/html": [
       "<div>\n",
       "<style scoped>\n",
       "    .dataframe tbody tr th:only-of-type {\n",
       "        vertical-align: middle;\n",
       "    }\n",
       "\n",
       "    .dataframe tbody tr th {\n",
       "        vertical-align: top;\n",
       "    }\n",
       "\n",
       "    .dataframe thead th {\n",
       "        text-align: right;\n",
       "    }\n",
       "</style>\n",
       "<table border=\"1\" class=\"dataframe\">\n",
       "  <thead>\n",
       "    <tr style=\"text-align: right;\">\n",
       "      <th>type</th>\n",
       "      <th>Love</th>\n",
       "      <th>Mythology &amp; Folklore</th>\n",
       "      <th>Nature</th>\n",
       "    </tr>\n",
       "    <tr>\n",
       "      <th>age</th>\n",
       "      <th></th>\n",
       "      <th></th>\n",
       "      <th></th>\n",
       "    </tr>\n",
       "  </thead>\n",
       "  <tbody>\n",
       "    <tr>\n",
       "      <th>Modern</th>\n",
       "      <td>83</td>\n",
       "      <td>40</td>\n",
       "      <td>135</td>\n",
       "    </tr>\n",
       "    <tr>\n",
       "      <th>Renaissance</th>\n",
       "      <td>243</td>\n",
       "      <td>19</td>\n",
       "      <td>53</td>\n",
       "    </tr>\n",
       "  </tbody>\n",
       "</table>\n",
       "</div>"
      ],
      "text/plain": [
       "type         Love  Mythology & Folklore  Nature\n",
       "age                                            \n",
       "Modern         83                    40     135\n",
       "Renaissance   243                    19      53"
      ]
     },
     "execution_count": 32,
     "metadata": {},
     "output_type": "execute_result"
    }
   ],
   "source": [
    "# Total Genre per Age – Stacked Column Chart (Bilal)\n",
    "# Create a table with the Age and Genre Type\n",
    "genre_per_age = Poetry_Analysis_df.groupby(['age', 'type'])['type'].count().unstack()\n",
    "genre_per_age"
   ]
  },
  {
   "cell_type": "code",
   "execution_count": 33,
   "id": "7b7ea20b-1562-4a31-aafb-2a2b2916cef6",
   "metadata": {},
   "outputs": [
    {
     "data": {
      "image/png": "[encoded data removed]",
      "text/plain": [
       "<Figure size 432x288 with 1 Axes>"
      ]
     },
     "metadata": {
      "needs_background": "light"
     },
     "output_type": "display_data"
    }
   ],
   "source": [
    "# Create a Stacked Column Chart with the table created with groupby from above\n",
    "genre_per_age.plot(kind='bar', stacked=True, rot=20, alpha=0.8)\n",
    "plt.title(\"Total Genre per Age\", fontsize=16)\n",
    "plt.xlabel(\"Age\", fontsize=12)\n",
    "plt.ylabel(\"Count of Genres\", fontsize=12)\n",
    "plt.legend(loc=\"upper left\", title = \"Genre\", fontsize=9.6)\n",
    "plt.ylim(0, 385)\n",
    "\n",
    "# Save the graph to the images folder\n",
    "plt.tight_layout()\n",
    "plt.savefig(\"Images/genre_per_age.png\")\n",
    "plt.show()"
   ]
  },
  {
   "cell_type": "code",
   "execution_count": 34,
   "id": "29bd67df-347d-4e42-afe4-22eb1c220556",
   "metadata": {},
   "outputs": [
    {
     "data": {
      "image/png": "[encoded data removed]",
      "text/plain": [
       "<Figure size 504x432 with 1 Axes>"
      ]
     },
     "metadata": {
      "needs_background": "light"
     },
     "output_type": "display_data"
    },
    {
     "name": "stdout",
     "output_type": "stream",
     "text": [
      "Number of rows present: 573\n"
     ]
    },
    {
     "data": {
      "image/png": "[encoded data removed]",
      "text/plain": [
       "<Figure size 432x288 with 1 Axes>"
      ]
     },
     "metadata": {},
     "output_type": "display_data"
    }
   ],
   "source": [
    "# Gender – Bar Graph (Bilal)\n",
    "\n",
    "# Create a bar graph from the \"Gender\" column in the dataframe\n",
    "Poetry_Analysis_df['Gender'].value_counts().plot(kind='bar', figsize=(7, 6), rot=20, color='b', alpha=0.6)\n",
    "plt.xlabel(\"Gender\", fontsize=12)\n",
    "plt.ylabel(\"Count of People\", fontsize=12)\n",
    "plt.title(\"Gender – Bar Graph\", fontsize=16)\n",
    "\n",
    "# Save the graph to the images folder\n",
    "plt.tight_layout()\n",
    "plt.savefig(\"Images/gender.png\")\n",
    "plt.show()\n",
    "\n",
    "row_count = print(\"Number of rows present:\", \n",
    "      len(Poetry_Analysis_df['Gender']))\n",
    "Poetry_Analysis_df['Gender'].value_counts()\n",
    "age_distribution = Poetry_Analysis_df[\"age\"].value_counts()\n",
    "plt.pie(age_distribution, autopct = \"%1.1f%%\", labels=age_distribution.index)\n",
    "plt.legend()\n",
    "plt.show()\n"
   ]
  },
  {
   "cell_type": "markdown",
   "id": "0f6e43a8-96cd-46d1-9d0d-a7b73c74bf3d",
   "metadata": {},
   "source": [
    "### Length of Poems by Genre"
   ]
  },
  {
   "cell_type": "code",
   "execution_count": 35,
   "id": "0dd37ae3-5bde-4b29-bcc3-89873f3463bd",
   "metadata": {},
   "outputs": [],
   "source": [
    "#Used to split strings with multiple delimiters\n",
    "import re\n",
    "\n",
    "#Make a dictionary to contain poem name, word count, and list of words for each poem\n",
    "poem_dict = {}\n",
    "index = 0\n",
    "\n",
    "#Iterates through each poem by name\n",
    "for poem in Poetry_Analysis_df[\"poem name\"]:\n",
    "    \n",
    "    #Temporary dictionary that stores poem name, word count, and split content\n",
    "    word_count_dict = {}\n",
    "    \n",
    "    #splits the string in the \"content\" column based on multiple delimiters and removes empty strings\n",
    "    word_list = re.split(',|\\n|;| |:|\\.', Poetry_Analysis_df[\"content\"][index])\n",
    "    word_list = [word for word in word_list if word != \"\"]\n",
    "    \n",
    "    word_count_dict[\"poem name\"] = poem\n",
    "    word_count_dict[\"word count\"] = len(word_list)\n",
    "    word_count_dict[\"split content\"] = word_list\n",
    "    \n",
    "    #adds poem to the poem dictionary\n",
    "    poem_dict[index] = word_count_dict\n",
    "    index += 1"
   ]
  },
  {
   "cell_type": "code",
   "execution_count": 36,
   "id": "709372d7-3afb-42b6-91fa-3d9192436e9f",
   "metadata": {},
   "outputs": [],
   "source": [
    "#Creates series to add to the dataframe\n",
    "word_count_series = []\n",
    "split_content_series = []\n",
    "\n",
    "#Adds elements to each respective series\n",
    "for key in poem_dict.keys():\n",
    "    word_count_series.append(poem_dict[key][\"word count\"])\n",
    "    split_content_series.append(poem_dict[key][\"split content\"])\n",
    "\n",
    "#Adds new columns to the dataframe for word count and split content\n",
    "Poetry_Analysis_df[\"word count\"] = word_count_series\n",
    "Poetry_Analysis_df[\"split content\"] = split_content_series"
   ]
  },
  {
   "cell_type": "code",
   "execution_count": 37,
   "id": "84ec36de-7bff-4b9d-b3c2-ea17eb7197eb",
   "metadata": {},
   "outputs": [
    {
     "data": {
      "text/html": [
       "<div>\n",
       "<style scoped>\n",
       "    .dataframe tbody tr th:only-of-type {\n",
       "        vertical-align: middle;\n",
       "    }\n",
       "\n",
       "    .dataframe tbody tr th {\n",
       "        vertical-align: top;\n",
       "    }\n",
       "\n",
       "    .dataframe thead th {\n",
       "        text-align: right;\n",
       "    }\n",
       "</style>\n",
       "<table border=\"1\" class=\"dataframe\">\n",
       "  <thead>\n",
       "    <tr style=\"text-align: right;\">\n",
       "      <th></th>\n",
       "      <th>poem name</th>\n",
       "      <th>content</th>\n",
       "      <th>type</th>\n",
       "      <th>word count</th>\n",
       "      <th>split content</th>\n",
       "    </tr>\n",
       "  </thead>\n",
       "  <tbody>\n",
       "    <tr>\n",
       "      <th>0</th>\n",
       "      <td>The Phoenix and the Turtle</td>\n",
       "      <td>Let the bird of loudest lay\\nOn the sole Arabi...</td>\n",
       "      <td>Mythology &amp; Folklore</td>\n",
       "      <td>354</td>\n",
       "      <td>[Let, the, bird, of, loudest, lay, On, the, so...</td>\n",
       "    </tr>\n",
       "    <tr>\n",
       "      <th>1</th>\n",
       "      <td>An Epilogue to the Above</td>\n",
       "      <td>Sir Charles into my chamber coming in,\\nWhen I...</td>\n",
       "      <td>Mythology &amp; Folklore</td>\n",
       "      <td>109</td>\n",
       "      <td>[Sir, Charles, into, my, chamber, coming, in, ...</td>\n",
       "    </tr>\n",
       "    <tr>\n",
       "      <th>2</th>\n",
       "      <td>Book 7, Epigram 42</td>\n",
       "      <td>Our vice runs beyond all that old men saw,\\nAn...</td>\n",
       "      <td>Mythology &amp; Folklore</td>\n",
       "      <td>59</td>\n",
       "      <td>[Our, vice, runs, beyond, all, that, old, men,...</td>\n",
       "    </tr>\n",
       "    <tr>\n",
       "      <th>3</th>\n",
       "      <td>from The Faerie Queene: Book I, Canto I</td>\n",
       "      <td>Lo I the man, whose Muse whilome did maske,\\nA...</td>\n",
       "      <td>Mythology &amp; Folklore</td>\n",
       "      <td>4344</td>\n",
       "      <td>[Lo, I, the, man, whose, Muse, whilome, did, m...</td>\n",
       "    </tr>\n",
       "    <tr>\n",
       "      <th>4</th>\n",
       "      <td>Sonnet 16</td>\n",
       "      <td>Long have I longd to see my love againe,\\nStil...</td>\n",
       "      <td>Mythology &amp; Folklore</td>\n",
       "      <td>116</td>\n",
       "      <td>[Long, have, I, longd, to, see, my, love, agai...</td>\n",
       "    </tr>\n",
       "    <tr>\n",
       "      <th>...</th>\n",
       "      <td>...</td>\n",
       "      <td>...</td>\n",
       "      <td>...</td>\n",
       "      <td>...</td>\n",
       "      <td>...</td>\n",
       "    </tr>\n",
       "    <tr>\n",
       "      <th>568</th>\n",
       "      <td>Union Square</td>\n",
       "      <td>With the man I love who loves me not,\\nI walke...</td>\n",
       "      <td>Love</td>\n",
       "      <td>146</td>\n",
       "      <td>[With, the, man, I, love, who, loves, me, not,...</td>\n",
       "    </tr>\n",
       "    <tr>\n",
       "      <th>569</th>\n",
       "      <td>Voyages</td>\n",
       "      <td>Hart Crane, \"Voyages I, II, III, IV, V, VI\" fr...</td>\n",
       "      <td>Love</td>\n",
       "      <td>39</td>\n",
       "      <td>[Hart, Crane, \"Voyages, I, II, III, IV, V, VI\"...</td>\n",
       "    </tr>\n",
       "    <tr>\n",
       "      <th>570</th>\n",
       "      <td>When You Are Old</td>\n",
       "      <td>When you are old and grey and full of sleep,\\n...</td>\n",
       "      <td>Love</td>\n",
       "      <td>100</td>\n",
       "      <td>[When, you, are, old, and, grey, and, full, of...</td>\n",
       "    </tr>\n",
       "    <tr>\n",
       "      <th>571</th>\n",
       "      <td>At a Window</td>\n",
       "      <td>Give me hunger,\\nO you gods that sit and give\\...</td>\n",
       "      <td>Love</td>\n",
       "      <td>112</td>\n",
       "      <td>[Give, me, hunger, O, you, gods, that, sit, an...</td>\n",
       "    </tr>\n",
       "    <tr>\n",
       "      <th>572</th>\n",
       "      <td>To a Greek Marble</td>\n",
       "      <td>Potuia, potuia\\nWhite grave goddess,\\nPity my ...</td>\n",
       "      <td>Love</td>\n",
       "      <td>112</td>\n",
       "      <td>[Potuia, potuia, White, grave, goddess, Pity, ...</td>\n",
       "    </tr>\n",
       "  </tbody>\n",
       "</table>\n",
       "<p>573 rows × 5 columns</p>\n",
       "</div>"
      ],
      "text/plain": [
       "                                   poem name  \\\n",
       "0                 The Phoenix and the Turtle   \n",
       "1                   An Epilogue to the Above   \n",
       "2                         Book 7, Epigram 42   \n",
       "3    from The Faerie Queene: Book I, Canto I   \n",
       "4                                  Sonnet 16   \n",
       "..                                       ...   \n",
       "568                             Union Square   \n",
       "569                                  Voyages   \n",
       "570                         When You Are Old   \n",
       "571                              At a Window   \n",
       "572                        To a Greek Marble   \n",
       "\n",
       "                                               content                  type  \\\n",
       "0    Let the bird of loudest lay\\nOn the sole Arabi...  Mythology & Folklore   \n",
       "1    Sir Charles into my chamber coming in,\\nWhen I...  Mythology & Folklore   \n",
       "2    Our vice runs beyond all that old men saw,\\nAn...  Mythology & Folklore   \n",
       "3    Lo I the man, whose Muse whilome did maske,\\nA...  Mythology & Folklore   \n",
       "4    Long have I longd to see my love againe,\\nStil...  Mythology & Folklore   \n",
       "..                                                 ...                   ...   \n",
       "568  With the man I love who loves me not,\\nI walke...                  Love   \n",
       "569  Hart Crane, \"Voyages I, II, III, IV, V, VI\" fr...                  Love   \n",
       "570  When you are old and grey and full of sleep,\\n...                  Love   \n",
       "571  Give me hunger,\\nO you gods that sit and give\\...                  Love   \n",
       "572  Potuia, potuia\\nWhite grave goddess,\\nPity my ...                  Love   \n",
       "\n",
       "     word count                                      split content  \n",
       "0           354  [Let, the, bird, of, loudest, lay, On, the, so...  \n",
       "1           109  [Sir, Charles, into, my, chamber, coming, in, ...  \n",
       "2            59  [Our, vice, runs, beyond, all, that, old, men,...  \n",
       "3          4344  [Lo, I, the, man, whose, Muse, whilome, did, m...  \n",
       "4           116  [Long, have, I, longd, to, see, my, love, agai...  \n",
       "..          ...                                                ...  \n",
       "568         146  [With, the, man, I, love, who, loves, me, not,...  \n",
       "569          39  [Hart, Crane, \"Voyages, I, II, III, IV, V, VI\"...  \n",
       "570         100  [When, you, are, old, and, grey, and, full, of...  \n",
       "571         112  [Give, me, hunger, O, you, gods, that, sit, an...  \n",
       "572         112  [Potuia, potuia, White, grave, goddess, Pity, ...  \n",
       "\n",
       "[573 rows x 5 columns]"
      ]
     },
     "execution_count": 37,
     "metadata": {},
     "output_type": "execute_result"
    }
   ],
   "source": [
    "# creates a new dataframe with only the columns of interest\n",
    "word_count_df = Poetry_Analysis_df[[\"poem name\", \"content\", \"type\", \"word count\", \"split content\"]]\n",
    "word_count_df"
   ]
  },
  {
   "cell_type": "code",
   "execution_count": 38,
   "id": "6223709f-1ebe-42e0-bb29-c53ebe0f8a1a",
   "metadata": {},
   "outputs": [
    {
     "data": {
      "image/png": "[encoded data removed]",
      "text/plain": [
       "<Figure size 1440x288 with 1 Axes>"
      ]
     },
     "metadata": {
      "needs_background": "light"
     },
     "output_type": "display_data"
    }
   ],
   "source": [
    "#Create a dictionary with genre as keys and an array of corresponding poem lengths as values\n",
    "genre_dict = {}\n",
    "genres = []\n",
    "for genre in word_count_df[\"type\"]:\n",
    "    if genre not in genres:\n",
    "        genres.append(genre)\n",
    "        \n",
    "for genre in genres:\n",
    "    genre_df = word_count_df[word_count_df[\"type\"] == genre]\n",
    "    genre_dict[genre] = genre_df[\"word count\"]\n",
    "\n",
    "\n",
    "#Plot the boxplots\n",
    "fig, ax = plt.subplots(figsize = (20,4))\n",
    "ax.boxplot(genre_dict.values(), flierprops={'marker': 'o', 'markerfacecolor': 'red'}, vert=False)\n",
    "ax.set_yticklabels(genre_dict.keys())\n",
    "ax.set_title(\"Boxplots of the Length of Poems by Genre\")\n",
    "ax.set_xlabel(\"Number of Words\")\n",
    "plt.show()"
   ]
  },
  {
   "cell_type": "code",
   "execution_count": 39,
   "id": "62466a8b-e23e-4c92-b8b6-85ddb7f60951",
   "metadata": {},
   "outputs": [
    {
     "data": {
      "image/png": "[encoded data removed]",
      "text/plain": [
       "<Figure size 1440x288 with 1 Axes>"
      ]
     },
     "metadata": {
      "needs_background": "light"
     },
     "output_type": "display_data"
    }
   ],
   "source": [
    "#Making boxplots of poems with max length of 600\n",
    "genre_dict = {}\n",
    "        \n",
    "for genre in genres:\n",
    "    genre_df = word_count_df[word_count_df[\"type\"] == genre]\n",
    "    genre_df = genre_df[genre_df[\"word count\"] <= 600]\n",
    "    genre_dict[genre] = genre_df[\"word count\"]\n",
    "\n",
    "fig, ax = plt.subplots(figsize = (20,4))\n",
    "ax.boxplot(genre_dict.values(), flierprops={'marker': 'o', 'markerfacecolor': 'red'}, vert=False)\n",
    "ax.set_yticklabels(genre_dict.keys())\n",
    "ax.set_title(\"Boxplots of the Length of Poems by Genre (Limit 600 Words)\")\n",
    "ax.set_xlabel(\"Number of Words\")\n",
    "plt.show()"
   ]
  },
  {
   "cell_type": "code",
   "execution_count": 40,
   "id": "0ff00d70-0621-4296-8f30-6836ebf94c6c",
   "metadata": {},
   "outputs": [],
   "source": [
    "# Conclusions TBD"
   ]
  },
  {
   "cell_type": "markdown",
   "id": "e37e6c01-c705-417a-89e7-210e46695c0a",
   "metadata": {},
   "source": [
    "### N-Gram Frequencies (WIP)"
   ]
  },
  {
   "cell_type": "code",
   "execution_count": 41,
   "id": "871823a1-7783-412a-be34-956200556a03",
   "metadata": {},
   "outputs": [],
   "source": [
    "#Dependencies for making N-grams\n",
    "import nltk, re, string, collections\n",
    "from nltk.util import ngrams"
   ]
  },
  {
   "cell_type": "code",
   "execution_count": 42,
   "id": "b18a5e71-f35e-4776-908d-6fb22cfadb91",
   "metadata": {},
   "outputs": [],
   "source": [
    "#Creates bigrams for each poem and stores them in bigrams_list. Frequency of bigrams are stored in bigrams_frequency_list.\n",
    "bigrams_list = []\n",
    "bigrams_frequency_list = []\n",
    "for poem in split_content_series:\n",
    "    poem_bigram = ngrams(poem, 1)\n",
    "    bigram_frequency = collections.Counter(poem_bigram)\n",
    "    bigrams_list.append(poem_bigram)\n",
    "    bigrams_frequency_list.append(bigram_frequency)"
   ]
  },
  {
   "cell_type": "code",
   "execution_count": 43,
   "id": "a86e4b6a-e013-4558-a320-c1d95ff27270",
   "metadata": {},
   "outputs": [],
   "source": [
    "#Print out the top 5 occuring bigrams for each poem:\n",
    "#for bigram in bigrams_frequency_list:\n",
    "    #print(bigram.most_common(5))"
   ]
  }
 ],
 "metadata": {
  "kernelspec": {
   "display_name": "Python 3 (ipykernel)",
   "language": "python",
   "name": "python3"
  },
  "language_info": {
   "codemirror_mode": {
    "name": "ipython",
    "version": 3
   },
   "file_extension": ".py",
   "mimetype": "text/x-python",
   "name": "python",
   "nbconvert_exporter": "python",
   "pygments_lexer": "ipython3",
   "version": "3.9.12"
  },
  "vscode": {
   "interpreter": {
    "hash": "23d1e4805d2de03fc649bab6e2e80d96d2dc4ec47b4d8a930226d29b30b31090"
   }
  }
 },
 "nbformat": 4,
 "nbformat_minor": 5
}
