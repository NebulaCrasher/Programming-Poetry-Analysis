{
 "cells": [
  {
   "cell_type": "code",
   "execution_count": null,
   "id": "e615f39e-f30e-45e1-a79c-be250c9772f8",
   "metadata": {},
   "outputs": [],
   "source": [
    "# Programming-Poetry-Project\n",
    "# Dependencies\n",
    "import matplotlib.pyplot as plt\n",
    "import pandas as pd\n",
    "import numpy as np\n",
    "from scipy import stats\n",
    "import seaborn as sns\n",
    "# File Location\n",
    "poetry_analysis = \"Resources/Poetry_Analysis_Data.csv\"\n",
    "\n",
    "# Read Poetry Analysis Data File As A Pandas Dataframe\n",
    "poetry_analysis_df = pd.read_csv(poetry_analysis)\n",
    "poetry_analysis_df.head(5)"
   ]
  },
  {
   "cell_type": "code",
   "execution_count": null,
   "id": "08746511-fbd4-40e6-8d91-354bbafd1b68",
   "metadata": {},
   "outputs": [],
   "source": [
    "# Total Genre per Age – Stacked Column Chart (Bilal)\n",
    "# Create a table with the Age and Genre Type\n",
    "genre_per_age = poetry_analysis_df.groupby(['age', 'type'])['type'].count().unstack()\n",
    "genre_per_age"
   ]
  },
  {
   "cell_type": "code",
   "execution_count": null,
   "id": "7b7ea20b-1562-4a31-aafb-2a2b2916cef6",
   "metadata": {},
   "outputs": [],
   "source": [
    "# Create a Stacked Column Chart with the table created with groupby from above\n",
    "genre_per_age.plot(kind='bar', stacked=True, rot=20, alpha=0.8)\n",
    "plt.title(\"Total Genre per Age\", fontsize=16)\n",
    "plt.xlabel(\"Age\", fontsize=12)\n",
    "plt.ylabel(\"Count of Genres\", fontsize=12)\n",
    "plt.legend(loc=\"upper left\", title = \"Genre\", fontsize=9.6)\n",
    "plt.ylim(0, 385)\n",
    "\n",
    "# Save the graph to the images folder\n",
    "plt.tight_layout()\n",
    "plt.savefig(\"Images/genre_per_age.png\")\n",
    "plt.show()"
   ]
  },
  {
   "cell_type": "code",
   "execution_count": null,
   "id": "29bd67df-347d-4e42-afe4-22eb1c220556",
   "metadata": {},
   "outputs": [],
   "source": [
    "# Gender – Bar Graph (Bilal)\n",
    "\n",
    "# Create a bar graph from the \"Gender\" column in the dataframe\n",
    "poetry_analysis_df['Gender'].value_counts().plot(kind='bar', figsize=(7, 6), rot=20, color='b', alpha=0.6)\n",
    "plt.xlabel(\"Gender\", fontsize=12)\n",
    "plt.ylabel(\"Count of People\", fontsize=12)\n",
    "plt.title(\"Gender_Bar Graph\", fontsize=16)\n",
    "\n",
    "# Save the graph to the images folder\n",
    "plt.tight_layout()\n",
    "plt.savefig(\"Images/gender.png\")\n",
    "plt.show()\n",
    "\n",
    "row_count = print(\"Number of rows present:\", \n",
    "      len(poetry_analysis_df['Gender']))\n",
    "poetry_analysis_df['Gender'].value_counts()\n",
    "\n"
   ]
  },
  {
   "cell_type": "markdown",
   "id": "89554a17",
   "metadata": {},
   "source": [
    "## Age Distribution of Poetry"
   ]
  },
  {
   "cell_type": "code",
   "execution_count": null,
   "id": "2c7273bf",
   "metadata": {},
   "outputs": [],
   "source": [
    "age_distribution = poetry_analysis_df[\"age\"].value_counts()\n",
    "plt.pie(age_distribution, autopct = \"%1.1f%%\", labels=age_distribution.index)\n",
    "plt.savefig(\"Images/age_distribution.png\")\n",
    "plt.show()"
   ]
  },
  {
   "cell_type": "markdown",
   "id": "d9fb7cd9",
   "metadata": {},
   "source": [
    "## Counts of Genre Type"
   ]
  },
  {
   "cell_type": "code",
   "execution_count": null,
   "id": "ff8eab68",
   "metadata": {},
   "outputs": [],
   "source": [
    "sns.set(font_scale=1.4)\n",
    "poetry_analysis_df['type'].value_counts().plot(kind='bar', figsize=(7, 6), rot=0)\n",
    "plt.xlabel(\"Poem Type\", labelpad=14)\n",
    "plt.ylabel(\"Count\", labelpad=14)\n",
    "plt.title(\"Count of Poem Types\", y=1.02)\n",
    "plt.savefig(\"Images/genre_count.png\")\n",
    "plt.show()"
   ]
  }
 ],
 "metadata": {
  "kernelspec": {
   "display_name": "Python 3.8.13 ('PythonData38')",
   "language": "python",
   "name": "python3"
  },
  "language_info": {
   "codemirror_mode": {
    "name": "ipython",
    "version": 3
   },
   "file_extension": ".py",
   "mimetype": "text/x-python",
   "name": "python",
   "nbconvert_exporter": "python",
   "pygments_lexer": "ipython3",
   "version": "3.8.13"
  },
  "vscode": {
   "interpreter": {
    "hash": "23d1e4805d2de03fc649bab6e2e80d96d2dc4ec47b4d8a930226d29b30b31090"
   }
  }
 },
 "nbformat": 4,
 "nbformat_minor": 5
}
